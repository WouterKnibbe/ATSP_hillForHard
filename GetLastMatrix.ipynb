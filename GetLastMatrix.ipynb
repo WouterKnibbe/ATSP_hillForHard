{
 "cells": [
  {
   "cell_type": "code",
   "execution_count": 2,
   "metadata": {},
   "outputs": [],
   "source": [
    "import algorithm\n",
    "import numpy as np\n",
    "import json\n",
    "import os"
   ]
  },
  {
   "cell_type": "code",
   "execution_count": 3,
   "metadata": {},
   "outputs": [],
   "source": [
    "def custom_encoder(obj):\n",
    "    \"\"\"\n",
    "    Custom JSON encoder function that converts non-serializable objects.\n",
    "    Converts:\n",
    "    - numpy arrays to lists\n",
    "    - numpy int64 to int\n",
    "    - numpy float64 to float\n",
    "    \"\"\"\n",
    "    if isinstance(obj, np.ndarray):\n",
    "        return obj.tolist()\n",
    "    elif isinstance(obj, np.integer):\n",
    "        return int(obj)\n",
    "    elif isinstance(obj, np.floating):\n",
    "        return float(obj)\n",
    "    elif isinstance(obj, np.inf):\n",
    "        return \"np.inf\"\n",
    "    else:\n",
    "        # This will raise a TypeError for unknown types\n",
    "        raise TypeError(f\"Object of type '{obj.__class__.__name__}' is not JSON serializable\")\n",
    "\n",
    "def save_matrix(cityRangeString, result):\n",
    "\n",
    "    file_path = f\"Snellius/Progress/continue{cityRangeString}.json\"\n",
    "\n",
    "    # Dumping the nested_dict to a json file with custom encoding\n",
    "    with open(file_path, \"w\") as json_file:\n",
    "        json.dump(result, json_file, default=custom_encoder)\n",
    "\n",
    "    print(f\"Continue file saved to JSON file successfully as {file_path}\")"
   ]
  },
  {
   "cell_type": "code",
   "execution_count": 4,
   "metadata": {},
   "outputs": [],
   "source": [
    "def custom_decoder(obj):\n",
    "    \"\"\"\n",
    "    Custom decoder function that converts specific JSON values back to their original types.\n",
    "    Converts:\n",
    "    - 'Infinity' to np.inf\n",
    "    \"\"\"\n",
    "    if isinstance(obj, dict):\n",
    "        for key, value in obj.items():\n",
    "            if value == \"Infinity\":\n",
    "                obj[key] = np.inf\n",
    "            # elif isinstance(value, list):\n",
    "                # Convert lists back to arrays\n",
    "                # obj[key] = np.array(value)\n",
    "            elif isinstance(value, dict):\n",
    "                obj[key] = custom_decoder(value)\n",
    "    elif isinstance(obj, list):\n",
    "        for i, value in enumerate(obj):\n",
    "            if value == \"Infinity\":\n",
    "                obj[i] = np.inf\n",
    "            # elif isinstance(value, list):\n",
    "                # obj[i] = np.array(value)\n",
    "            elif isinstance(value, dict):\n",
    "                obj[i] = custom_decoder(value)\n",
    "    return obj\n",
    "\n",
    "\n",
    "def load_result(file_path):\n",
    "\n",
    "  # Loading the JSON file with custom decoding\n",
    "  with open(file_path, \"r\") as json_file:\n",
    "      loaded_results = json.load(json_file, object_hook=custom_decoder)\n",
    "\n",
    "  return loaded_results\n",
    "\n",
    "def find_hardest_matrix(loaded_dict):\n",
    "    target = loaded_dict[list(loaded_dict.keys())[-1]][1]\n",
    "    for key, value in loaded_dict.items():\n",
    "        if value[0] == target:\n",
    "            return target, value[4]"
   ]
  },
  {
   "cell_type": "code",
   "execution_count": 5,
   "metadata": {},
   "outputs": [
    {
     "name": "stdout",
     "output_type": "stream",
     "text": [
      "Continue file saved to JSON file successfully as Snellius/Progress/continue30_15.json\n",
      "Continue file saved to JSON file successfully as Snellius/Progress/continue30_20.json\n",
      "Continue file saved to JSON file successfully as Snellius/Progress/continue50_15.json\n",
      "Continue file saved to JSON file successfully as Snellius/Progress/continue50_20.json\n",
      "Continue file saved to JSON file successfully as Snellius/Progress/continue70_20.json\n"
     ]
    }
   ],
   "source": [
    "cities = [30, 50, 70]\n",
    "ranges = [15, 20]\n",
    "\n",
    "for city in cities:\n",
    "    for range in ranges:\n",
    "        path = f\"Results/results{city}_{range}_0.json\"\n",
    "        try:\n",
    "            loaded = load_result(path)\n",
    "        except:\n",
    "            continue\n",
    "\n",
    "        save_matrix(f\"{city}_{range}\", find_hardest_matrix(loaded))"
   ]
  },
  {
   "cell_type": "code",
   "execution_count": 74,
   "metadata": {},
   "outputs": [],
   "source": [
    "path = f\"Results/results7_10_0.json\"\n",
    "loaded = load_result(path)"
   ]
  },
  {
   "cell_type": "code",
   "execution_count": 79,
   "metadata": {},
   "outputs": [
    {
     "data": {
      "text/plain": [
       "[[inf, 7.0, 4.0, 3.0, 3.0, 6.0, 2.0],\n",
       " [5.0, inf, 7.0, 7.0, 8.0, 5.0, 5.0],\n",
       " [2.0, 2.0, inf, 6.0, 2.0, 7.0, 7.0],\n",
       " [5.0, 9.0, 9.0, inf, 5.0, 8.0, 7.0],\n",
       " [5.0, 2.0, 1.0, 1.0, inf, 3.0, 1.0],\n",
       " [5.0, 9.0, 2.0, 8.0, 3.0, inf, 7.0],\n",
       " [3.0, 6.0, 6.0, 5.0, 8.0, 5.0, inf]]"
      ]
     },
     "execution_count": 79,
     "metadata": {},
     "output_type": "execute_result"
    }
   ],
   "source": [
    "loaded[list(loaded.keys())[-1]][4]"
   ]
  },
  {
   "cell_type": "code",
   "execution_count": 73,
   "metadata": {},
   "outputs": [
    {
     "data": {
      "text/plain": [
       "[[inf, 7.0, 4.0, 3.0, 3.0, 6.0, 2.0],\n",
       " [5.0, inf, 7.0, 7.0, 8.0, 5.0, 5.0],\n",
       " [2.0, 2.0, inf, 6.0, 4.0, 7.0, 7.0],\n",
       " [5.0, 9.0, 9.0, inf, 5.0, 8.0, 7.0],\n",
       " [5.0, 2.0, 1.0, 1.0, inf, 3.0, 1.0],\n",
       " [5.0, 9.0, 2.0, 8.0, 3.0, inf, 7.0],\n",
       " [3.0, 6.0, 6.0, 5.0, 8.0, 5.0, inf]]"
      ]
     },
     "execution_count": 73,
     "metadata": {},
     "output_type": "execute_result"
    }
   ],
   "source": [
    "path = f\"Snellius/Progress/continue7_10.json\"\n",
    "hardest, loaded = load_result(path)\n",
    "loaded"
   ]
  },
  {
   "cell_type": "code",
   "execution_count": 62,
   "metadata": {},
   "outputs": [
    {
     "ename": "AttributeError",
     "evalue": "'list' object has no attribute 'keys'",
     "output_type": "error",
     "traceback": [
      "\u001b[1;31m---------------------------------------------------------------------------\u001b[0m",
      "\u001b[1;31mAttributeError\u001b[0m                            Traceback (most recent call last)",
      "Cell \u001b[1;32mIn[62], line 7\u001b[0m\n\u001b[0;32m      4\u001b[0m         \u001b[38;5;28;01mif\u001b[39;00m value[\u001b[38;5;241m0\u001b[39m] \u001b[38;5;241m==\u001b[39m target:\n\u001b[0;32m      5\u001b[0m             \u001b[38;5;28;01mreturn\u001b[39;00m target, value[\u001b[38;5;241m4\u001b[39m]\n\u001b[1;32m----> 7\u001b[0m \u001b[43mfind_hardest_matrix\u001b[49m\u001b[43m(\u001b[49m\u001b[43mloaded\u001b[49m\u001b[43m)\u001b[49m\n",
      "Cell \u001b[1;32mIn[62], line 2\u001b[0m, in \u001b[0;36mfind_hardest_matrix\u001b[1;34m(loaded_dict)\u001b[0m\n\u001b[0;32m      1\u001b[0m \u001b[38;5;28;01mdef\u001b[39;00m \u001b[38;5;21mfind_hardest_matrix\u001b[39m(loaded_dict):\n\u001b[1;32m----> 2\u001b[0m     target \u001b[38;5;241m=\u001b[39m loaded_dict[\u001b[38;5;28mlist\u001b[39m(\u001b[43mloaded_dict\u001b[49m\u001b[38;5;241;43m.\u001b[39;49m\u001b[43mkeys\u001b[49m())[\u001b[38;5;241m-\u001b[39m\u001b[38;5;241m1\u001b[39m]][\u001b[38;5;241m1\u001b[39m]\n\u001b[0;32m      3\u001b[0m     \u001b[38;5;28;01mfor\u001b[39;00m key, value \u001b[38;5;129;01min\u001b[39;00m loaded_dict\u001b[38;5;241m.\u001b[39mitems():\n\u001b[0;32m      4\u001b[0m         \u001b[38;5;28;01mif\u001b[39;00m value[\u001b[38;5;241m0\u001b[39m] \u001b[38;5;241m==\u001b[39m target:\n",
      "\u001b[1;31mAttributeError\u001b[0m: 'list' object has no attribute 'keys'"
     ]
    }
   ],
   "source": [
    "\n",
    "\n",
    "find_hardest_matrix(loaded)"
   ]
  },
  {
   "cell_type": "code",
   "execution_count": 29,
   "metadata": {},
   "outputs": [
    {
     "data": {
      "text/plain": [
       "20"
      ]
     },
     "execution_count": 29,
     "metadata": {},
     "output_type": "execute_result"
    }
   ],
   "source": [
    "loaded = load_result(\"Snellius/Progress/continue7_10.json\")\n",
    "\n",
    "loaded[1]"
   ]
  }
 ],
 "metadata": {
  "kernelspec": {
   "display_name": "Python 3",
   "language": "python",
   "name": "python3"
  },
  "language_info": {
   "codemirror_mode": {
    "name": "ipython",
    "version": 3
   },
   "file_extension": ".py",
   "mimetype": "text/x-python",
   "name": "python",
   "nbconvert_exporter": "python",
   "pygments_lexer": "ipython3",
   "version": "3.10.0"
  }
 },
 "nbformat": 4,
 "nbformat_minor": 2
}
