{
 "cells": [
  {
   "cell_type": "markdown",
   "metadata": {},
   "source": [
    "#### Get last matrix of a certain run to continue it"
   ]
  },
  {
   "cell_type": "code",
   "execution_count": 1,
   "metadata": {},
   "outputs": [],
   "source": [
    "import algorithm\n",
    "import numpy as np\n",
    "import json\n",
    "import os"
   ]
  },
  {
   "cell_type": "code",
   "execution_count": 2,
   "metadata": {},
   "outputs": [],
   "source": [
    "def custom_encoder(obj):\n",
    "    \"\"\"\n",
    "    Custom JSON encoder function that converts non-serializable objects.\n",
    "    Converts:\n",
    "    - numpy arrays to lists\n",
    "    - numpy int64 to int\n",
    "    - numpy float64 to float\n",
    "    \"\"\"\n",
    "    if isinstance(obj, np.ndarray):\n",
    "        return obj.tolist()\n",
    "    elif isinstance(obj, np.integer):\n",
    "        return int(obj)\n",
    "    elif isinstance(obj, np.floating):\n",
    "        return float(obj)\n",
    "    elif isinstance(obj, np.inf):\n",
    "        return \"np.inf\"\n",
    "    else:\n",
    "        # This will raise a TypeError for unknown types\n",
    "        raise TypeError(f\"Object of type '{obj.__class__.__name__}' is not JSON serializable\")\n",
    "\n",
    "def save_matrix(cityRangeString, result):\n",
    "\n",
    "    file_path = f\"Snellius/Progress/continue{cityRangeString}.json\"\n",
    "\n",
    "    # Dumping the nested_dict to a json file with custom encoding\n",
    "    with open(file_path, \"w\") as json_file:\n",
    "        json.dump(result, json_file, default=custom_encoder)\n",
    "\n",
    "    print(f\"Continue file saved to JSON file successfully as {file_path}\")"
   ]
  },
  {
   "cell_type": "code",
   "execution_count": 3,
   "metadata": {},
   "outputs": [],
   "source": [
    "def custom_decoder(obj):\n",
    "    \"\"\"\n",
    "    Custom decoder function that converts specific JSON values back to their original types.\n",
    "    Converts:\n",
    "    - 'Infinity' to np.inf\n",
    "    \"\"\"\n",
    "    if isinstance(obj, dict):\n",
    "        for key, value in obj.items():\n",
    "            if value == \"Infinity\":\n",
    "                obj[key] = np.inf\n",
    "            # elif isinstance(value, list):\n",
    "                # Convert lists back to arrays\n",
    "                # obj[key] = np.array(value)\n",
    "            elif isinstance(value, dict):\n",
    "                obj[key] = custom_decoder(value)\n",
    "    elif isinstance(obj, list):\n",
    "        for i, value in enumerate(obj):\n",
    "            if value == \"Infinity\":\n",
    "                obj[i] = np.inf\n",
    "            # elif isinstance(value, list):\n",
    "                # obj[i] = np.array(value)\n",
    "            elif isinstance(value, dict):\n",
    "                obj[i] = custom_decoder(value)\n",
    "    return obj\n",
    "\n",
    "\n",
    "def load_result(file_path):\n",
    "\n",
    "  # Loading the JSON file with custom decoding\n",
    "  with open(file_path, \"r\") as json_file:\n",
    "      loaded_results = json.load(json_file, object_hook=custom_decoder)\n",
    "\n",
    "  return loaded_results\n",
    "\n",
    "def find_hardest_matrix(loaded_dict):\n",
    "    target = loaded_dict[list(loaded_dict.keys())[-1]][1]\n",
    "    for key, value in loaded_dict.items():\n",
    "        if value[0] == target:\n",
    "            return target, value[4]"
   ]
  },
  {
   "cell_type": "code",
   "execution_count": 5,
   "metadata": {},
   "outputs": [
    {
     "name": "stdout",
     "output_type": "stream",
     "text": [
      "Continue file saved to JSON file successfully as Snellius/Progress/continue30_15.json\n",
      "Continue file saved to JSON file successfully as Snellius/Progress/continue30_20.json\n",
      "Continue file saved to JSON file successfully as Snellius/Progress/continue50_15.json\n",
      "Continue file saved to JSON file successfully as Snellius/Progress/continue50_20.json\n",
      "Continue file saved to JSON file successfully as Snellius/Progress/continue70_20.json\n"
     ]
    }
   ],
   "source": [
    "cities = [30, 50, 70]\n",
    "ranges = [15, 20]\n",
    "\n",
    "for city in cities:\n",
    "    for range in ranges:\n",
    "        path = f\"Results/results{city}_{range}_0.json\"\n",
    "        try:\n",
    "            loaded = load_result(path)\n",
    "        except:\n",
    "            continue\n",
    "\n",
    "        save_matrix(f\"{city}_{range}\", find_hardest_matrix(loaded))"
   ]
  },
  {
   "cell_type": "code",
   "execution_count": 19,
   "metadata": {},
   "outputs": [],
   "source": [
    "path = f\"Results/6019314_run1/results30_10.json\"\n",
    "loaded = load_result(path)"
   ]
  },
  {
   "cell_type": "code",
   "execution_count": 5,
   "metadata": {},
   "outputs": [],
   "source": [
    "def find_hardest_matrix2(loaded):\n",
    "    # Find the maximum hardness value\n",
    "    max_hardness = list(loaded[-1][1].values())[-1][1]\n",
    "    \n",
    "    # Initialize the hardest matrix\n",
    "    hardest_matrix = None\n",
    "    \n",
    "    # Traverse through the data in reverse order\n",
    "    for i in range(len(loaded) - 1, -1, -1):\n",
    "        values_list = list(loaded[i][1].values())\n",
    "        for j in range(len(values_list) - 1, -1, -1):\n",
    "            # Check if the current hardness is equal to the maximum hardness\n",
    "            if values_list[j][0] == max_hardness:\n",
    "                # Assign the hardest matrix value\n",
    "                hardest_matrix = values_list[j][4]\n",
    "                return hardest_matrix, i, j\n",
    "    \n",
    "    return hardest_matrix"
   ]
  },
  {
   "cell_type": "code",
   "execution_count": 22,
   "metadata": {},
   "outputs": [
    {
     "data": {
      "text/plain": [
       "inf"
      ]
     },
     "execution_count": 22,
     "metadata": {},
     "output_type": "execute_result"
    }
   ],
   "source": [
    "find_hardest_matrix2(loaded)[0][0][0]"
   ]
  },
  {
   "cell_type": "code",
   "execution_count": 8,
   "metadata": {},
   "outputs": [
    {
     "data": {
      "text/plain": [
       "523"
      ]
     },
     "execution_count": 8,
     "metadata": {},
     "output_type": "execute_result"
    }
   ],
   "source": [
    "list(loaded[39][1].values())[99][0]"
   ]
  },
  {
   "cell_type": "code",
   "execution_count": 27,
   "metadata": {},
   "outputs": [
    {
     "data": {
      "text/plain": [
       "(409, inf)"
      ]
     },
     "execution_count": 27,
     "metadata": {},
     "output_type": "execute_result"
    }
   ],
   "source": [
    "path = f\"Snellius/Progress/v1/continue30_10.json\"\n",
    "hardest, loaded = load_result(path)\n",
    "hardest, loaded[0][0]"
   ]
  }
 ],
 "metadata": {
  "kernelspec": {
   "display_name": "Python 3",
   "language": "python",
   "name": "python3"
  },
  "language_info": {
   "codemirror_mode": {
    "name": "ipython",
    "version": 3
   },
   "file_extension": ".py",
   "mimetype": "text/x-python",
   "name": "python",
   "nbconvert_exporter": "python",
   "pygments_lexer": "ipython3",
   "version": "3.10.0"
  }
 },
 "nbformat": 4,
 "nbformat_minor": 2
}
